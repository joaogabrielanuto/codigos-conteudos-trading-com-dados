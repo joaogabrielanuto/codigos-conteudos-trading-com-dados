{
  "nbformat": 4,
  "nbformat_minor": 0,
  "metadata": {
    "colab": {
      "name": "UPDATE_20220125_Introducao_Backtesting_Trading_Strategies_Python.ipynb",
      "provenance": [],
      "collapsed_sections": [
        "_J1HH70HoQxE",
        "LWE1CaZBoQxF",
        "QwpQMi5yoQxG",
        "P_VKj4XDoQxK",
        "XDUgjhQQoQxR",
        "UGRC7vS_oQxX",
        "3J2FFixBPz1F",
        "r4XtH2dfoQxZ",
        "pOsfvXhvQJ7k"
      ],
      "authorship_tag": "ABX9TyOdXWBYARhcGj1v9N7+CrwC",
      "include_colab_link": true
    },
    "kernelspec": {
      "name": "python3",
      "display_name": "Python 3"
    },
    "language_info": {
      "name": "python"
    }
  },
  "cells": [
    {
      "cell_type": "markdown",
      "metadata": {
        "id": "view-in-github",
        "colab_type": "text"
      },
      "source": [
        "<a href=\"https://colab.research.google.com/github/joaogabrielanuto/Laboratorio-de-Codigos/blob/main/post-classes.ipynb\" target=\"_parent\"><img src=\"https://colab.research.google.com/assets/colab-badge.svg\" alt=\"Open In Colab\"/></a>"
      ]
    },
    {
      "cell_type": "markdown",
      "metadata": {
        "id": "YoTlXvEeoQxD"
      },
      "source": [
        "# **Post *Classes Python***"
      ]
    },
    {
      "cell_type": "markdown",
      "metadata": {
        "id": "_J1HH70HoQxE"
      },
      "source": [
        "## 2.1. Python: orientação à objetos\n",
        "\n",
        "##### Variáveis e funções mais básicas"
      ]
    },
    {
      "cell_type": "code",
      "execution_count": 76,
      "metadata": {
        "id": "Uv34Cb5koQxE"
      },
      "outputs": [],
      "source": [
        "ticker = 'PETR4'\n",
        "setor = 'Combustíveis'\n",
        "ohlc = [15.5, 20, 10.82, 16.51]"
      ]
    },
    {
      "cell_type": "code",
      "source": [
        "type(ticker)"
      ],
      "metadata": {
        "id": "UpkreTxsW2qU",
        "outputId": "7c4c4408-4092-4e61-9c88-2824f26ba057",
        "colab": {
          "base_uri": "https://localhost:8080/"
        }
      },
      "execution_count": 77,
      "outputs": [
        {
          "output_type": "execute_result",
          "data": {
            "text/plain": [
              "str"
            ]
          },
          "metadata": {},
          "execution_count": 77
        }
      ]
    },
    {
      "cell_type": "code",
      "source": [
        "type(ohlc)"
      ],
      "metadata": {
        "id": "kn6BdbopW-c7",
        "outputId": "9628262b-fd6e-475f-a4e8-0beaf6d5cb7f",
        "colab": {
          "base_uri": "https://localhost:8080/"
        }
      },
      "execution_count": 75,
      "outputs": [
        {
          "output_type": "execute_result",
          "data": {
            "text/plain": [
              "list"
            ]
          },
          "metadata": {},
          "execution_count": 75
        }
      ]
    },
    {
      "cell_type": "code",
      "source": [
        "class Ativo:\n",
        "\n",
        "  def __init__(self, ticker, setor, ohlc):\n",
        "    self.ticker = str(ticker)\n",
        "    self.setor = str(setor)\n",
        "    self.ohlc = list(ohlc)"
      ],
      "metadata": {
        "id": "jgGobwUnXDV0"
      },
      "execution_count": 104,
      "outputs": []
    },
    {
      "cell_type": "code",
      "source": [
        "ativo1 = Papel('ITUB4', 'Financeiro', [10, 15, 8.7, 14.5])"
      ],
      "metadata": {
        "id": "UahBRdQTYD_j"
      },
      "execution_count": 105,
      "outputs": []
    },
    {
      "cell_type": "code",
      "source": [
        "type(ativo1)"
      ],
      "metadata": {
        "id": "WJTtkGhFYOuk",
        "outputId": "e6fcb14f-596b-4334-8e88-ae609aef7d1c",
        "colab": {
          "base_uri": "https://localhost:8080/"
        }
      },
      "execution_count": 106,
      "outputs": [
        {
          "output_type": "execute_result",
          "data": {
            "text/plain": [
              "__main__.Ativo"
            ]
          },
          "metadata": {},
          "execution_count": 106
        }
      ]
    },
    {
      "cell_type": "code",
      "source": [
        "ativo1.ohlc"
      ],
      "metadata": {
        "id": "MRfyDE2daQ9D",
        "outputId": "3beba46a-bbeb-4418-dfa4-9fc1f355c156",
        "colab": {
          "base_uri": "https://localhost:8080/"
        }
      },
      "execution_count": 110,
      "outputs": [
        {
          "output_type": "execute_result",
          "data": {
            "text/plain": [
              "[10, 15, 8.7, 14.5]"
            ]
          },
          "metadata": {},
          "execution_count": 110
        }
      ]
    },
    {
      "cell_type": "code",
      "source": [
        "ativo2 = Ativo('MGLU3', 'Varejo', [2, 3.2, 1.35, 1.6])"
      ],
      "metadata": {
        "id": "DC-ZWOqibUEL"
      },
      "execution_count": 132,
      "outputs": []
    },
    {
      "cell_type": "code",
      "source": [
        "ativo2.ohlc[0] < ativo1.ohlc[0]"
      ],
      "metadata": {
        "id": "K1_Cr6ynbc-r",
        "outputId": "f4de406c-5209-4904-9657-3e161dbaf485",
        "colab": {
          "base_uri": "https://localhost:8080/"
        }
      },
      "execution_count": 113,
      "outputs": [
        {
          "output_type": "execute_result",
          "data": {
            "text/plain": [
              "True"
            ]
          },
          "metadata": {},
          "execution_count": 113
        }
      ]
    },
    {
      "cell_type": "code",
      "source": [
        "class Ativo:\n",
        "    def __init__(self,ticker,setor,ohlc):\n",
        "        self.ticker = str(ticker)\n",
        "        self.setor = str(setor)\n",
        "        self.ohlc = list(ohlc)\n",
        "    \n",
        "    def Amplitude(self):\n",
        "      return round((self.ohlc[1] - self.ohlc[2]), 2)\n",
        "\n",
        "    pass"
      ],
      "metadata": {
        "id": "2HgOCllrbqDD"
      },
      "execution_count": 137,
      "outputs": []
    },
    {
      "cell_type": "code",
      "source": [
        "ativo2 = Ativo('MGLU3', 'Varejo', [2, 3.2, 1.35, 1.6])"
      ],
      "metadata": {
        "id": "1Gkt8dzJeIZk"
      },
      "execution_count": 138,
      "outputs": []
    },
    {
      "cell_type": "code",
      "source": [
        "ativo2.Amplitude()"
      ],
      "metadata": {
        "id": "gx7-Aza2dbj8",
        "outputId": "f6bd9bb4-7ddb-4f0d-a1ea-df546cad93a0",
        "colab": {
          "base_uri": "https://localhost:8080/"
        }
      },
      "execution_count": 139,
      "outputs": [
        {
          "output_type": "execute_result",
          "data": {
            "text/plain": [
              "1.85"
            ]
          },
          "metadata": {},
          "execution_count": 139
        }
      ]
    },
    {
      "cell_type": "code",
      "source": [
        "class Ativos_B3(Ativo):\n",
        "       \n",
        "    def Tipo(self):\n",
        "        if self.ticker[-1] == '3':\n",
        "            print(self.ticker,'é uma ação é do tipo ORDINÁRIA')\n",
        "        elif self.ticker[-1] == '4':\n",
        "            print(self.ticker,'é uma ação é do tipo PREFERENCIAL')\n",
        "        elif self.ticker[-1] == '1':\n",
        "            print(self.ticker,'é uma ação é do tipo UNIT')\n",
        "        else:\n",
        "            print('Não tenho certeza, melhor consultar o site da B3')\n",
        "    \n",
        "    pass"
      ],
      "metadata": {
        "id": "cvHYXcsTeMtc"
      },
      "execution_count": 140,
      "outputs": []
    },
    {
      "cell_type": "code",
      "source": [
        "ativo4 = Ativos_B3('MGLU3', 'Varejo', [2, 3.2, 1.35, 1.6])"
      ],
      "metadata": {
        "id": "JiWuuV4becFc"
      },
      "execution_count": 141,
      "outputs": []
    },
    {
      "cell_type": "code",
      "source": [
        "ativo4.Tipo()"
      ],
      "metadata": {
        "id": "XCSiyJ-zesBs",
        "outputId": "a17bbdd5-6554-4130-e205-bc7ab5b599b3",
        "colab": {
          "base_uri": "https://localhost:8080/"
        }
      },
      "execution_count": 142,
      "outputs": [
        {
          "output_type": "stream",
          "name": "stdout",
          "text": [
            "MGLU3 é uma ação é do tipo ORDINÁRIA\n"
          ]
        }
      ]
    },
    {
      "cell_type": "code",
      "source": [
        "ativo4.Amplitude()"
      ],
      "metadata": {
        "id": "KWW1FlrTeur9",
        "outputId": "2a0b3332-415f-4b7c-95ce-27de9216d1f2",
        "colab": {
          "base_uri": "https://localhost:8080/"
        }
      },
      "execution_count": 143,
      "outputs": [
        {
          "output_type": "execute_result",
          "data": {
            "text/plain": [
              "1.85"
            ]
          },
          "metadata": {},
          "execution_count": 143
        }
      ]
    },
    {
      "cell_type": "code",
      "source": [],
      "metadata": {
        "id": "lIgjtUC8ezhN"
      },
      "execution_count": null,
      "outputs": []
    },
    {
      "cell_type": "code",
      "source": [],
      "metadata": {
        "id": "N6KfrRrjezX0"
      },
      "execution_count": null,
      "outputs": []
    },
    {
      "cell_type": "markdown",
      "metadata": {
        "id": "LWE1CaZBoQxF"
      },
      "source": [
        "## 2.2. Classes: armazenar dados, funções e até coleções de métodos em um único objeto"
      ]
    },
    {
      "cell_type": "markdown",
      "metadata": {
        "id": "QwpQMi5yoQxG"
      },
      "source": [
        "### 2.2.1. Criar uma classe que define um ativo\n",
        "\\__init__  ->  permite criar a funcionalidade inicial da classe <p>\n",
        "self -> definir as propriedades e métodos de uma instância"
      ]
    },
    {
      "cell_type": "code",
      "execution_count": null,
      "metadata": {
        "id": "VWEDKl7ooQxG"
      },
      "outputs": [],
      "source": [
        "class Ativo:\n",
        "    def __init__(self,ticker,setor,ohlc):\n",
        "        self.ticker = str(ticker)\n",
        "        self.setor = str(setor)\n",
        "        self.ohlc = list(ohlc)\n",
        "    pass"
      ]
    },
    {
      "cell_type": "code",
      "execution_count": null,
      "metadata": {
        "id": "G30NgeAToQxH",
        "outputId": "afd3270c-8929-4607-835f-82b29ec11c75",
        "colab": {
          "base_uri": "https://localhost:8080/"
        }
      },
      "outputs": [
        {
          "output_type": "execute_result",
          "data": {
            "text/plain": [
              "<__main__.Ativo at 0x7fb4d3abd690>"
            ]
          },
          "metadata": {},
          "execution_count": 229
        }
      ],
      "source": [
        "ativo1 = Ativo('PETR4','Combustíveis',[32.35,33.17,31.55,31.93])\n",
        "ativo1"
      ]
    },
    {
      "cell_type": "code",
      "execution_count": null,
      "metadata": {
        "id": "Ggsbp495oQxI",
        "outputId": "1f8b43ac-5691-4bcc-b42d-a667b590004b",
        "colab": {
          "base_uri": "https://localhost:8080/"
        }
      },
      "outputs": [
        {
          "output_type": "execute_result",
          "data": {
            "application/vnd.google.colaboratory.intrinsic+json": {
              "type": "string"
            },
            "text/plain": [
              "'PETR4'"
            ]
          },
          "metadata": {},
          "execution_count": 230
        }
      ],
      "source": [
        "ativo1.ticker"
      ]
    },
    {
      "cell_type": "code",
      "execution_count": null,
      "metadata": {
        "id": "Wej1hQuloQxJ",
        "outputId": "035d7d64-0f62-4aa1-d9e8-45cad5a974f5",
        "colab": {
          "base_uri": "https://localhost:8080/"
        }
      },
      "outputs": [
        {
          "output_type": "execute_result",
          "data": {
            "text/plain": [
              "31.93"
            ]
          },
          "metadata": {},
          "execution_count": 231
        }
      ],
      "source": [
        "ativo1.ohlc[3]"
      ]
    },
    {
      "cell_type": "code",
      "execution_count": null,
      "metadata": {
        "id": "mVQkn665oQxJ",
        "outputId": "3a66e580-5b46-428a-a2ef-08c381a8a921",
        "colab": {
          "base_uri": "https://localhost:8080/"
        }
      },
      "outputs": [
        {
          "output_type": "execute_result",
          "data": {
            "text/plain": [
              "False"
            ]
          },
          "metadata": {},
          "execution_count": 232
        }
      ],
      "source": [
        "ativo2 = Ativo('ITUB4','Financeiro',[25.32,27.01,25.18,26.77])\n",
        "ativo3 = Ativo('VALE3','Mineração',[80.87,82.55,80.76,82.40])\n",
        "ativo2.setor == ativo3.setor"
      ]
    },
    {
      "cell_type": "code",
      "source": [
        "class Ativo:\n",
        "    def __init__(self,ticker,setor,ohlc):\n",
        "        self.ticker = str(ticker)\n",
        "        self.setor = str(setor)\n",
        "        self.ohlc = list(ohlc)\n",
        "    \n",
        "    \n",
        "    pass"
      ],
      "metadata": {
        "id": "rcigAU9xb-hU"
      },
      "execution_count": null,
      "outputs": []
    },
    {
      "cell_type": "code",
      "source": [],
      "metadata": {
        "id": "s_gFn5I7b-ZE"
      },
      "execution_count": null,
      "outputs": []
    },
    {
      "cell_type": "markdown",
      "metadata": {
        "id": "P_VKj4XDoQxK"
      },
      "source": [
        "### 2.2.2. Criar uma classe com métodos\n",
        "Dica: Ao trabalhar com classes, as 'cores no código' ajudam muito"
      ]
    },
    {
      "cell_type": "code",
      "source": [
        "class Ativo:\n",
        "    def __init__(self,ticker,setor,ohlc):\n",
        "        self.ticker = str(ticker)\n",
        "        self.setor = str(setor)\n",
        "        self.ohlc = list(ohlc)"
      ],
      "metadata": {
        "id": "tUwN0TQ9Q67z"
      },
      "execution_count": 12,
      "outputs": []
    },
    {
      "cell_type": "code",
      "source": [
        "def Amplitude(self):\n",
        "        print(round((self.ohlc[1]-self.ohlc[2]),2))"
      ],
      "metadata": {
        "id": "C914au-4RT3D"
      },
      "execution_count": null,
      "outputs": []
    },
    {
      "cell_type": "code",
      "source": [
        "def Amplitude(open, close):\n",
        "  return close-open"
      ],
      "metadata": {
        "id": "o48MHBJuRXS7"
      },
      "execution_count": 14,
      "outputs": []
    },
    {
      "cell_type": "code",
      "source": [
        "Amplitude(15,20)"
      ],
      "metadata": {
        "id": "j6WGS7-_RjDL",
        "outputId": "5fc09178-1716-4ba1-c670-60f4b03c9e30",
        "colab": {
          "base_uri": "https://localhost:8080/"
        }
      },
      "execution_count": 15,
      "outputs": [
        {
          "output_type": "execute_result",
          "data": {
            "text/plain": [
              "5"
            ]
          },
          "metadata": {},
          "execution_count": 15
        }
      ]
    },
    {
      "cell_type": "code",
      "source": [
        "ativo1.Amplitude"
      ],
      "metadata": {
        "id": "RpcvaU5ARyA8",
        "outputId": "7ba1c8b7-4dc8-43ee-b571-6c963830d966",
        "colab": {
          "base_uri": "https://localhost:8080/",
          "height": 170
        }
      },
      "execution_count": 17,
      "outputs": [
        {
          "output_type": "error",
          "ename": "AttributeError",
          "evalue": "ignored",
          "traceback": [
            "\u001b[0;31m---------------------------------------------------------------------------\u001b[0m",
            "\u001b[0;31mAttributeError\u001b[0m                            Traceback (most recent call last)",
            "\u001b[0;32m<ipython-input-17-241ad08de176>\u001b[0m in \u001b[0;36m<module>\u001b[0;34m\u001b[0m\n\u001b[0;32m----> 1\u001b[0;31m \u001b[0mativo1\u001b[0m\u001b[0;34m.\u001b[0m\u001b[0mAmplitude\u001b[0m\u001b[0;34m\u001b[0m\u001b[0;34m\u001b[0m\u001b[0m\n\u001b[0m",
            "\u001b[0;31mAttributeError\u001b[0m: 'Ativo' object has no attribute 'Amplitude'"
          ]
        }
      ]
    },
    {
      "cell_type": "code",
      "source": [
        "ativo2 = Ativo('ITUB4','Financeiro',[25.32,27.01,25.18,26.77])"
      ],
      "metadata": {
        "id": "cA_8kWV-Q8xb"
      },
      "execution_count": 19,
      "outputs": []
    },
    {
      "cell_type": "code",
      "source": [
        "Amplitude(ativo2.ohlc[0],ativo2.ohlc[3])"
      ],
      "metadata": {
        "id": "Bn6fgTHLSN6D",
        "outputId": "131e94f9-d697-47e1-cd71-d8ffd7dcfb94",
        "colab": {
          "base_uri": "https://localhost:8080/"
        }
      },
      "execution_count": 23,
      "outputs": [
        {
          "output_type": "execute_result",
          "data": {
            "text/plain": [
              "1.4499999999999993"
            ]
          },
          "metadata": {},
          "execution_count": 23
        }
      ]
    },
    {
      "cell_type": "code",
      "source": [
        "ativo2.Amplitude()"
      ],
      "metadata": {
        "id": "Xp38rhlDR-Br",
        "outputId": "ba97f1cd-ac76-401d-fb72-635fb1bb25ce",
        "colab": {
          "base_uri": "https://localhost:8080/"
        }
      },
      "execution_count": 21,
      "outputs": [
        {
          "output_type": "stream",
          "name": "stdout",
          "text": [
            "1.83\n"
          ]
        }
      ]
    },
    {
      "cell_type": "code",
      "source": [
        "ativo2 = Ativo('ITUB4','Financeiro',[25.32,27.01,25.18,26.77])"
      ],
      "metadata": {
        "id": "MH2QVD6LSifL"
      },
      "execution_count": 27,
      "outputs": []
    },
    {
      "cell_type": "code",
      "source": [
        "type(ativo2)"
      ],
      "metadata": {
        "id": "PXQy2i0hSyGz",
        "outputId": "7270abf1-dfe6-46ec-b617-bf0e5451f1c3",
        "colab": {
          "base_uri": "https://localhost:8080/"
        }
      },
      "execution_count": 29,
      "outputs": [
        {
          "output_type": "execute_result",
          "data": {
            "text/plain": [
              "__main__.Ativo"
            ]
          },
          "metadata": {},
          "execution_count": 29
        }
      ]
    },
    {
      "cell_type": "code",
      "source": [
        "ativo2.Amplitude()"
      ],
      "metadata": {
        "id": "reyX0asNS3Q7",
        "outputId": "ddc149de-f65f-490a-98d1-13859a4d674d",
        "colab": {
          "base_uri": "https://localhost:8080/"
        }
      },
      "execution_count": 30,
      "outputs": [
        {
          "output_type": "stream",
          "name": "stdout",
          "text": [
            "1.83\n"
          ]
        }
      ]
    },
    {
      "cell_type": "code",
      "source": [
        "ativo3 = Ativo_num('ITUB4','Financeiro',[25.32,27.01,25.18,26.77])"
      ],
      "metadata": {
        "id": "vslSW5c3S6Nc"
      },
      "execution_count": 114,
      "outputs": []
    },
    {
      "cell_type": "code",
      "source": [
        "type(ativo3)"
      ],
      "metadata": {
        "id": "5icDIGlMTV8M",
        "outputId": "aa5342ce-7153-463b-c12c-46cf17b33beb",
        "colab": {
          "base_uri": "https://localhost:8080/"
        }
      },
      "execution_count": 33,
      "outputs": [
        {
          "output_type": "execute_result",
          "data": {
            "text/plain": [
              "__main__.Ativo_num"
            ]
          },
          "metadata": {},
          "execution_count": 33
        }
      ]
    },
    {
      "cell_type": "code",
      "source": [
        "ativo3.Amplitude()"
      ],
      "metadata": {
        "id": "y6Alif6rS8uD",
        "outputId": "112ca1d3-94b1-4c89-e344-0cad78209c76",
        "colab": {
          "base_uri": "https://localhost:8080/"
        }
      },
      "execution_count": 32,
      "outputs": [
        {
          "output_type": "stream",
          "name": "stdout",
          "text": [
            "estudos\n"
          ]
        }
      ]
    },
    {
      "cell_type": "code",
      "source": [],
      "metadata": {
        "id": "E1vbyg2tT7r0"
      },
      "execution_count": null,
      "outputs": []
    },
    {
      "cell_type": "code",
      "source": [
        "class carro:\n",
        "\n",
        "  def __init__(self, marca, modelo, potencia):\n",
        "    teste = 1"
      ],
      "metadata": {
        "id": "wFlgLHP1T_hM"
      },
      "execution_count": 49,
      "outputs": []
    },
    {
      "cell_type": "code",
      "source": [
        "class carro:\n",
        "\n",
        "  def Amplitude(open,close):\n",
        "    return open-close"
      ],
      "metadata": {
        "id": "qojgsgo-VVvM"
      },
      "execution_count": 63,
      "outputs": []
    },
    {
      "cell_type": "code",
      "source": [
        "carro1 = carro(52, 2, 45.6)"
      ],
      "metadata": {
        "id": "hHk2vEWhUGTT"
      },
      "execution_count": 61,
      "outputs": []
    },
    {
      "cell_type": "code",
      "source": [
        "carro1 = carro()"
      ],
      "metadata": {
        "id": "v1y5v9saUmgM"
      },
      "execution_count": 68,
      "outputs": []
    },
    {
      "cell_type": "code",
      "source": [
        "carro1.Amplitude(1.2)"
      ],
      "metadata": {
        "id": "Spr905q7WHxL",
        "outputId": "1f851a70-04b5-4e59-91c2-d6edf0616621",
        "colab": {
          "base_uri": "https://localhost:8080/",
          "height": 260
        }
      },
      "execution_count": 72,
      "outputs": [
        {
          "output_type": "error",
          "ename": "TypeError",
          "evalue": "ignored",
          "traceback": [
            "\u001b[0;31m---------------------------------------------------------------------------\u001b[0m",
            "\u001b[0;31mTypeError\u001b[0m                                 Traceback (most recent call last)",
            "\u001b[0;32m<ipython-input-72-e5f20e17a071>\u001b[0m in \u001b[0;36m<module>\u001b[0;34m\u001b[0m\n\u001b[0;32m----> 1\u001b[0;31m \u001b[0mcarro1\u001b[0m\u001b[0;34m.\u001b[0m\u001b[0mAmplitude\u001b[0m\u001b[0;34m(\u001b[0m\u001b[0;36m1.2\u001b[0m\u001b[0;34m)\u001b[0m\u001b[0;34m\u001b[0m\u001b[0;34m\u001b[0m\u001b[0m\n\u001b[0m",
            "\u001b[0;32m<ipython-input-63-c91aefab15dc>\u001b[0m in \u001b[0;36mAmplitude\u001b[0;34m(open, close)\u001b[0m\n\u001b[1;32m      2\u001b[0m \u001b[0;34m\u001b[0m\u001b[0m\n\u001b[1;32m      3\u001b[0m   \u001b[0;32mdef\u001b[0m \u001b[0mAmplitude\u001b[0m\u001b[0;34m(\u001b[0m\u001b[0mopen\u001b[0m\u001b[0;34m,\u001b[0m\u001b[0mclose\u001b[0m\u001b[0;34m)\u001b[0m\u001b[0;34m:\u001b[0m\u001b[0;34m\u001b[0m\u001b[0;34m\u001b[0m\u001b[0m\n\u001b[0;32m----> 4\u001b[0;31m     \u001b[0;32mreturn\u001b[0m \u001b[0mopen\u001b[0m\u001b[0;34m-\u001b[0m\u001b[0mclose\u001b[0m\u001b[0;34m\u001b[0m\u001b[0;34m\u001b[0m\u001b[0m\n\u001b[0m",
            "\u001b[0;31mTypeError\u001b[0m: unsupported operand type(s) for -: 'carro' and 'float'"
          ]
        }
      ]
    },
    {
      "cell_type": "code",
      "source": [
        "class carro:\n",
        "\n",
        "  def __init__(marca, modelo, potencia):\n",
        "    marca = str()\n",
        "\n",
        "\n",
        "\n",
        "\n",
        "\n",
        "\n",
        "    def __init__(self,ticker,setor,ohlc):\n",
        "        self.ticker = str(ticker)\n",
        "        self.setor = str(setor)\n",
        "        self.ohlc = list(ohlc)\n",
        "    \n",
        "    def Amplitude(self):\n",
        "        print('estudos')"
      ],
      "metadata": {
        "id": "s2Q9ImWXTZ3U"
      },
      "execution_count": null,
      "outputs": []
    },
    {
      "cell_type": "code",
      "execution_count": 25,
      "metadata": {
        "id": "QM3ZXfjToQxK"
      },
      "outputs": [],
      "source": [
        "class Ativo_num:\n",
        "    def __init__(self,ticker,setor,ohlc):\n",
        "        self.ticker = str(ticker)\n",
        "        self.setor = str(setor)\n",
        "        self.ohlc = list(ohlc)\n",
        "    \n",
        "    def Amplitude(self):\n",
        "        print('estudos')\n",
        "    \n",
        "    def Tipo(self):\n",
        "        if self.ticker[-1] == '3':\n",
        "            print(self.ticker,'é uma ação é do tipo ORDINÁRIA')\n",
        "        elif self.ticker[-1] == '4':\n",
        "            print(self.ticker,'é uma ação é do tipo PREFERENCIAL')\n",
        "        elif self.ticker[-1] == '1':\n",
        "            print(self.ticker,'é uma ação é do tipo UNIT')\n",
        "        else:\n",
        "            print('Não tenho certeza, melhor consultar o site da B3')\n",
        "    \n",
        "    def Resultado(self):\n",
        "        resultado = (self.ohlc[3]-self.ohlc[0])\n",
        "        if resultado == 0:\n",
        "          print(self.ticker,'fechou estável')\n",
        "        elif resultado > 0:\n",
        "          print(self.ticker,'fechou em alta')\n",
        "        elif resultado < 0:\n",
        "          print(self.ticker,'fechou em baixa')\n",
        "\n",
        "    def Fech_prox_max_min(self):\n",
        "        media_max_min = np.mean([self.ohlc[1],self.ohlc[2]])\n",
        "        if self.ohlc[3] > media_max_min:\n",
        "            print(self.ticker,'parece estar em tendencia de alta')\n",
        "        else:\n",
        "            print(self.ticker,'parece estar em tendencia de baixa')\n",
        "\n",
        "    pass"
      ]
    },
    {
      "cell_type": "code",
      "execution_count": null,
      "metadata": {
        "id": "ASxA3xBuoQxL"
      },
      "outputs": [],
      "source": [
        "ativo1 = Ativo('PETR4','Combustíveis',[32.35,33.17,31.55,31.93])\n",
        "ativo2 = Ativo('ITUB4','Financeiro',[25.32,27.01,25.18,26.77])\n",
        "ativo3 = Ativo('VALE3','Mineração',[80.87,82.55,80.76,82.40])\n",
        "ativo4 = Ativo('BPAC11','Financeiro',[24.17,24.77,23.70,23.89])"
      ]
    },
    {
      "cell_type": "code",
      "execution_count": null,
      "metadata": {
        "id": "bqPOKduyoQxM",
        "outputId": "8fef5124-36d4-4f8f-d025-0b7583633bb8",
        "colab": {
          "base_uri": "https://localhost:8080/"
        }
      },
      "outputs": [
        {
          "output_type": "stream",
          "name": "stdout",
          "text": [
            "1.62\n"
          ]
        }
      ],
      "source": [
        "ativo1.Amplitude()\n"
      ]
    },
    {
      "cell_type": "code",
      "source": [
        "Ativo.Amplitude(ativo3)"
      ],
      "metadata": {
        "colab": {
          "base_uri": "https://localhost:8080/"
        },
        "id": "B7xycia1t4gV",
        "outputId": "6bcdbba2-6cc3-4203-ebd1-13349bbba9cc"
      },
      "execution_count": null,
      "outputs": [
        {
          "output_type": "stream",
          "name": "stdout",
          "text": [
            "1.79\n"
          ]
        }
      ]
    },
    {
      "cell_type": "code",
      "execution_count": null,
      "metadata": {
        "id": "qFWfUF4moQxN",
        "outputId": "e386948f-58b1-44ee-98c8-e0608d9a84e6",
        "colab": {
          "base_uri": "https://localhost:8080/"
        }
      },
      "outputs": [
        {
          "output_type": "stream",
          "name": "stdout",
          "text": [
            "BPAC11 é uma ação é do tipo UNIT\n"
          ]
        }
      ],
      "source": [
        "ativo4.Tipo()"
      ]
    },
    {
      "cell_type": "code",
      "execution_count": null,
      "metadata": {
        "id": "XpfaUn2PoQxP",
        "outputId": "57bf4be5-2deb-4007-8f10-f02b49df4b0c",
        "colab": {
          "base_uri": "https://localhost:8080/"
        }
      },
      "outputs": [
        {
          "output_type": "execute_result",
          "data": {
            "text/plain": [
              "True"
            ]
          },
          "metadata": {},
          "execution_count": 238
        }
      ],
      "source": [
        "ativo2.setor == ativo4.setor"
      ]
    },
    {
      "cell_type": "code",
      "execution_count": null,
      "metadata": {
        "id": "6jBaoV2UoQxP",
        "outputId": "6761ddf1-103f-4a01-ddb9-d02e2c05dfd2",
        "colab": {
          "base_uri": "https://localhost:8080/"
        }
      },
      "outputs": [
        {
          "output_type": "stream",
          "name": "stdout",
          "text": [
            "ITUB4 fechou em alta\n"
          ]
        }
      ],
      "source": [
        "ativo2.Resultado()"
      ]
    },
    {
      "cell_type": "code",
      "execution_count": null,
      "metadata": {
        "id": "TWg_qW6YoQxQ",
        "outputId": "93e94f1c-d75b-4bdd-c592-eb5cccd8b8c0",
        "colab": {
          "base_uri": "https://localhost:8080/"
        }
      },
      "outputs": [
        {
          "output_type": "stream",
          "name": "stdout",
          "text": [
            "VALE3 parece estar em tendencia de alta\n"
          ]
        }
      ],
      "source": [
        "Ativo.Fech_prox_max_min(ativo3)"
      ]
    },
    {
      "cell_type": "code",
      "execution_count": null,
      "metadata": {
        "id": "ZaOJRYdroQxQ",
        "outputId": "10bf5d75-7e0b-4f32-a4dd-cffb93be699c",
        "colab": {
          "base_uri": "https://localhost:8080/"
        }
      },
      "outputs": [
        {
          "output_type": "stream",
          "name": "stdout",
          "text": [
            "WEGE3 fechou em baixa\n"
          ]
        }
      ],
      "source": [
        "ativo5 = Ativo('WEGE3','Bens_Industriais',[32.46,33.84,31.18,32.12])\n",
        "Ativo.Resultado(ativo5)"
      ]
    },
    {
      "cell_type": "markdown",
      "metadata": {
        "id": "XDUgjhQQoQxR"
      },
      "source": [
        "## 3.1. Um pouco mais de Python:"
      ]
    },
    {
      "cell_type": "markdown",
      "metadata": {
        "id": "JsbHp87woQxR"
      },
      "source": [
        "### 3.1.1. *Expressions, quotations ...*"
      ]
    },
    {
      "cell_type": "code",
      "execution_count": null,
      "metadata": {
        "id": "re2GOMnGoQxS",
        "outputId": "ffdf87fa-e7eb-4895-d681-95eb9f60d796",
        "colab": {
          "base_uri": "https://localhost:8080/"
        }
      },
      "outputs": [
        {
          "output_type": "stream",
          "name": "stdout",
          "text": [
            "2.580645161290323\n",
            "Com uma ação de VALE3 consigo comprar 2.580645161290323 ações de PETR4\n"
          ]
        }
      ],
      "source": [
        "razao_ativos = ativo3.ohlc[3]/ativo1.ohlc[3]\n",
        "print(razao_ativos)\n",
        "print('Com uma ação de',ativo3.ticker,'consigo comprar',razao_ativos,'ações de',ativo1.ticker)"
      ]
    },
    {
      "cell_type": "code",
      "execution_count": null,
      "metadata": {
        "id": "5jk6zve_oQxS",
        "outputId": "d29b53d1-2e16-4d9e-e670-827bd51ef9b8",
        "colab": {
          "base_uri": "https://localhost:8080/"
        }
      },
      "outputs": [
        {
          "output_type": "stream",
          "name": "stdout",
          "text": [
            "Com uma ação de VALE3 consigo comprar 2.6 ações de PETR4\n"
          ]
        }
      ],
      "source": [
        "print('Com uma ação de',ativo3.ticker,'consigo comprar %.1f ações de' % razao_ativos, ativo1.ticker)"
      ]
    },
    {
      "cell_type": "code",
      "execution_count": null,
      "metadata": {
        "id": "6HY5M2D7oQxS",
        "outputId": "b6905f20-5226-49bf-d04c-20cd90b6eaa7",
        "colab": {
          "base_uri": "https://localhost:8080/"
        }
      },
      "outputs": [
        {
          "output_type": "stream",
          "name": "stdout",
          "text": [
            "Com uma ação de vale3 consigo comprar 2.6 ações de PETR4\n"
          ]
        }
      ],
      "source": [
        "print('Com uma ação de',f'{ativo3.ticker.lower()}','consigo comprar %.1f ações de' % razao_ativos,ativo1.ticker)"
      ]
    },
    {
      "cell_type": "code",
      "execution_count": null,
      "metadata": {
        "id": "_WNYlnzgoQxT",
        "outputId": "26a2c865-e878-4cda-b858-830c3746ab73",
        "colab": {
          "base_uri": "https://localhost:8080/"
        }
      },
      "outputs": [
        {
          "output_type": "stream",
          "name": "stdout",
          "text": [
            "Na data de 03/01/2022 \b, uma ação de VALE3 equivale a aproximadamente 2.6 ações de PETR4\n"
          ]
        }
      ],
      "source": [
        "data_cotacao = '2022-01-03'\n",
        "print('Na data de',f'{pd.to_datetime(data_cotacao).strftime(\"%d/%m/%Y\")}','\\b, uma ação de', \n",
        "f'{ativo3.ticker}','equivale a aproximadamente %.1f ações de' % razao_ativos,ativo1.ticker)"
      ]
    },
    {
      "cell_type": "code",
      "source": [
        "type(ativo5.ohlc[3])"
      ],
      "metadata": {
        "colab": {
          "base_uri": "https://localhost:8080/"
        },
        "id": "OjPTesMUSbAr",
        "outputId": "a0f3a0a8-6c35-43a4-845f-4e3683226c91"
      },
      "execution_count": null,
      "outputs": [
        {
          "output_type": "execute_result",
          "data": {
            "text/plain": [
              "float"
            ]
          },
          "metadata": {},
          "execution_count": 246
        }
      ]
    },
    {
      "cell_type": "markdown",
      "metadata": {
        "id": "s-mwdxEnoQxT"
      },
      "source": [
        "### 3.1.2. Herança entre classes"
      ]
    },
    {
      "cell_type": "code",
      "execution_count": null,
      "metadata": {
        "id": "NSai0z5NoQxT"
      },
      "outputs": [],
      "source": [
        "class Ativo_num:\n",
        "    def __init__(self,ticker,setor,ohlc):\n",
        "        self.ticker = str(ticker)\n",
        "        self.setor = str(setor)\n",
        "        self.ohlc = list(ohlc)\n",
        "    \n",
        "    def Amplitude(self):\n",
        "        print(round((self.ohlc[1]-self.ohlc[2]),2))\n",
        "    \n",
        "    def Tipo(self):\n",
        "        if self.ticker[-1] == '3':\n",
        "            print(self.ticker,'é uma ação é do tipo ORDINÁRIA')\n",
        "        elif self.ticker[-1] == '4':\n",
        "            print(self.ticker,'é uma ação é do tipo PREFERENCIAL')\n",
        "        elif self.ticker[-1] == '1':\n",
        "            print(self.ticker,'é uma ação é do tipo UNIT')\n",
        "        else:\n",
        "            print('Não tenho certeza, melhor consultar o site da B3')\n",
        "\n",
        "    def Resultado(self):\n",
        "        resultado = (self.ohlc[3]-self.ohlc[0])\n",
        "        if resultado == 0:\n",
        "          print(self.ticker,'fechou estável')\n",
        "        elif resultado > 0:\n",
        "          print(self.ticker,'fechou em alta')\n",
        "        elif resultado < 0:\n",
        "          print(self.ticker,'fechou em baixa')\n",
        "\n",
        "    def Fech_prox_max_min(self):\n",
        "        media_max_min = np.mean([self.ohlc[1],self.ohlc[2]])\n",
        "        if self.ohlc[3] > media_max_min:\n",
        "            print(self.ticker,'parece estar em tendencia de alta')\n",
        "        else:\n",
        "            print(self.ticker,'parece estar em tendencia de baixa')\n",
        "            \n",
        "    def Amplitude_num(self):\n",
        "        return (round((self.ohlc[1]-self.ohlc[2]),2))\n",
        "    \n",
        "    def Resultado_num(self):\n",
        "        self.resultado_num = (self.ohlc[3]-self.ohlc[0])\n",
        "        return round(self.resultado_num,2)\n",
        "        \n",
        "pass"
      ]
    },
    {
      "cell_type": "code",
      "execution_count": null,
      "metadata": {
        "id": "cYWjBXDGoQxU",
        "outputId": "00cafd9f-f0ba-47e5-fef3-3087cae953ca",
        "colab": {
          "base_uri": "https://localhost:8080/"
        }
      },
      "outputs": [
        {
          "output_type": "stream",
          "name": "stdout",
          "text": [
            "2.66\n"
          ]
        },
        {
          "output_type": "execute_result",
          "data": {
            "text/plain": [
              "NoneType"
            ]
          },
          "metadata": {},
          "execution_count": 248
        }
      ],
      "source": [
        "x = ativo5.Amplitude()\n",
        "type(x)"
      ]
    },
    {
      "cell_type": "code",
      "execution_count": null,
      "metadata": {
        "id": "xrVZ38QpoQxU"
      },
      "outputs": [],
      "source": [
        "## Obs.: Output daria erro já que ativo5 foi criado usando classe Ativo ao invés de Ativo_num\n",
        "## ativo5.Amplitude_num()"
      ]
    },
    {
      "cell_type": "code",
      "execution_count": null,
      "metadata": {
        "id": "61GZciEpoQxV"
      },
      "outputs": [],
      "source": [
        "ativo1 = Ativo_num('PETR4','Combustíveis',[32.35,33.17,31.55,31.93])\n",
        "ativo2 = Ativo_num('ITUB4','Financeiro',[25.32,27.01,25.18,26.77])\n",
        "ativo3 = Ativo_num('VALE3','Mineração',[80.87,82.55,80.76,82.40])\n",
        "ativo4 = Ativo_num('BPAC11','Financeiro',[24.17,24.77,23.70,23.89])\n",
        "ativo5 = Ativo_num('WEGE3','Bens_Industriais',[32.46,33.84,31.18,32.12])"
      ]
    },
    {
      "cell_type": "code",
      "execution_count": null,
      "metadata": {
        "id": "NbrtD2TAoQxV",
        "outputId": "db70eed1-52f5-43b4-ebfa-eb977f38ad2e",
        "colab": {
          "base_uri": "https://localhost:8080/"
        }
      },
      "outputs": [
        {
          "output_type": "execute_result",
          "data": {
            "text/plain": [
              "float"
            ]
          },
          "metadata": {},
          "execution_count": 251
        }
      ],
      "source": [
        "y = ativo5.Amplitude_num()\n",
        "type(y)"
      ]
    },
    {
      "cell_type": "code",
      "execution_count": null,
      "metadata": {
        "id": "jerNH_ZIoQxV"
      },
      "outputs": [],
      "source": [
        "class ETFs(Ativo_num):\n",
        "    def __init__(self,ticker,ohlc):\n",
        "        self.ticker = str(ticker)\n",
        "        self.ohlc = list(ohlc)"
      ]
    },
    {
      "cell_type": "code",
      "execution_count": null,
      "metadata": {
        "id": "L3c-sRCaoQxW",
        "outputId": "a056b07e-8fb2-4ab7-eaa6-a1288f510273",
        "colab": {
          "base_uri": "https://localhost:8080/"
        }
      },
      "outputs": [
        {
          "output_type": "execute_result",
          "data": {
            "application/vnd.google.colaboratory.intrinsic+json": {
              "type": "string"
            },
            "text/plain": [
              "'^BVSP'"
            ]
          },
          "metadata": {},
          "execution_count": 253
        }
      ],
      "source": [
        "IBOV = ETFs('^BVSP',[113428,114269,112815,113879])\n",
        "IBOV.ticker"
      ]
    },
    {
      "cell_type": "code",
      "execution_count": null,
      "metadata": {
        "id": "3jGYIM7ZoQxW",
        "outputId": "b2b43e4e-4f7f-4fb9-f7ff-960012f8153e",
        "colab": {
          "base_uri": "https://localhost:8080/"
        }
      },
      "outputs": [
        {
          "output_type": "execute_result",
          "data": {
            "text/plain": [
              "451"
            ]
          },
          "metadata": {},
          "execution_count": 254
        }
      ],
      "source": [
        "IBOV.ohlc[3]-IBOV.ohlc[0]"
      ]
    },
    {
      "cell_type": "code",
      "execution_count": null,
      "metadata": {
        "id": "gg_SMvMLoQxW",
        "outputId": "19a59da4-3cab-4309-cd1b-effc93fa0ecd",
        "colab": {
          "base_uri": "https://localhost:8080/"
        }
      },
      "outputs": [
        {
          "output_type": "execute_result",
          "data": {
            "text/plain": [
              "-0.42"
            ]
          },
          "metadata": {},
          "execution_count": 255
        }
      ],
      "source": [
        "ativo1.Resultado_num()"
      ]
    },
    {
      "cell_type": "code",
      "execution_count": null,
      "metadata": {
        "id": "fD7AmI6ZoQxX",
        "outputId": "89f0f813-5ec7-4d77-c35d-8a6a6399dc9f",
        "colab": {
          "base_uri": "https://localhost:8080/"
        }
      },
      "outputs": [
        {
          "output_type": "stream",
          "name": "stdout",
          "text": [
            "^BVSP fechou em alta\n"
          ]
        }
      ],
      "source": [
        "IBOV.Resultado()"
      ]
    },
    {
      "cell_type": "code",
      "execution_count": null,
      "metadata": {
        "id": "k7nI-424oQxX",
        "outputId": "3bba9f76-9169-448a-d802-6c39e115fb64",
        "colab": {
          "base_uri": "https://localhost:8080/"
        }
      },
      "outputs": [
        {
          "output_type": "stream",
          "name": "stdout",
          "text": [
            "Não tenho certeza, melhor consultar o site da B3\n"
          ]
        }
      ],
      "source": [
        "IBOV.Tipo()"
      ]
    }
  ]
}