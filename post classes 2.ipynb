{
 "cells": [
  {
   "cell_type": "markdown",
   "metadata": {
    "colab_type": "text",
    "id": "view-in-github"
   },
   "source": [
    "<a href=\"https://colab.research.google.com/github/joaogabrielanuto/Laboratorio-de-Codigos/blob/main/post-classes.ipynb\" target=\"_parent\"><img src=\"https://colab.research.google.com/assets/colab-badge.svg\" alt=\"Open In Colab\"/></a>"
   ]
  },
  {
   "cell_type": "markdown",
   "metadata": {
    "id": "YoTlXvEeoQxD"
   },
   "source": [
    "# **Post *Classes Python***"
   ]
  },
  {
   "cell_type": "markdown",
   "metadata": {
    "id": "_J1HH70HoQxE"
   },
   "source": [
    "## 2.1. Python: orientação à objetos\n",
    "\n",
    "##### Variáveis e funções mais básicas"
   ]
  },
  {
   "cell_type": "code",
   "execution_count": 76,
   "metadata": {
    "id": "Uv34Cb5koQxE"
   },
   "outputs": [],
   "source": [
    "ticker = 'PETR4'\n",
    "setor = 'Combustíveis'\n",
    "ohlc = [15.5, 20, 10.82, 16.51]"
   ]
  },
  {
   "cell_type": "code",
   "execution_count": 77,
   "metadata": {
    "colab": {
     "base_uri": "https://localhost:8080/"
    },
    "id": "UpkreTxsW2qU",
    "outputId": "7c4c4408-4092-4e61-9c88-2824f26ba057"
   },
   "outputs": [
    {
     "data": {
      "text/plain": [
       "str"
      ]
     },
     "execution_count": 77,
     "metadata": {},
     "output_type": "execute_result"
    }
   ],
   "source": [
    "type(ticker)"
   ]
  },
  {
   "cell_type": "code",
   "execution_count": 75,
   "metadata": {
    "colab": {
     "base_uri": "https://localhost:8080/"
    },
    "id": "kn6BdbopW-c7",
    "outputId": "9628262b-fd6e-475f-a4e8-0beaf6d5cb7f"
   },
   "outputs": [
    {
     "data": {
      "text/plain": [
       "list"
      ]
     },
     "execution_count": 75,
     "metadata": {},
     "output_type": "execute_result"
    }
   ],
   "source": [
    "type(ohlc)"
   ]
  },
  {
   "cell_type": "code",
   "execution_count": 5,
   "metadata": {
    "id": "jgGobwUnXDV0"
   },
   "outputs": [],
   "source": [
    "class Ativo:\n",
    "\n",
    "  def __init__(self, ticker, setor, ohlc):\n",
    "    self.ticker = str(ticker)\n",
    "    self.setor = str(setor)\n",
    "    self.ohlc = list(ohlc)"
   ]
  },
  {
   "cell_type": "code",
   "execution_count": 6,
   "metadata": {
    "id": "UahBRdQTYD_j"
   },
   "outputs": [],
   "source": [
    "papel_01 = Ativo('ITUB4', 'Financeiro', [10, 15, 8.7, 14.5])"
   ]
  },
  {
   "cell_type": "code",
   "execution_count": 7,
   "metadata": {
    "colab": {
     "base_uri": "https://localhost:8080/"
    },
    "id": "WJTtkGhFYOuk",
    "outputId": "e6fcb14f-596b-4334-8e88-ae609aef7d1c"
   },
   "outputs": [
    {
     "data": {
      "text/plain": [
       "__main__.Ativo"
      ]
     },
     "execution_count": 7,
     "metadata": {},
     "output_type": "execute_result"
    }
   ],
   "source": [
    "type(papel_01)"
   ]
  },
  {
   "cell_type": "code",
   "execution_count": 8,
   "metadata": {
    "colab": {
     "base_uri": "https://localhost:8080/"
    },
    "id": "MRfyDE2daQ9D",
    "outputId": "3beba46a-bbeb-4418-dfa4-9fc1f355c156"
   },
   "outputs": [
    {
     "data": {
      "text/plain": [
       "[10, 15, 8.7, 14.5]"
      ]
     },
     "execution_count": 8,
     "metadata": {},
     "output_type": "execute_result"
    }
   ],
   "source": [
    "papel_01.ohlc"
   ]
  },
  {
   "cell_type": "code",
   "execution_count": 18,
   "metadata": {
    "id": "DC-ZWOqibUEL"
   },
   "outputs": [],
   "source": [
    "ativo2 = Ativo('MGLU3', 'Varejo', [2, 3.2, 1.35, 1.6])"
   ]
  },
  {
   "cell_type": "code",
   "execution_count": 25,
   "metadata": {
    "id": "2HgOCllrbqDD"
   },
   "outputs": [],
   "source": [
    "class Ativo:\n",
    "    def __init__(self,ticker,setor,ohlc):\n",
    "        self.ticker = str(ticker)\n",
    "        self.setor = str(setor)\n",
    "        self.ohlc = list(ohlc)\n",
    "    \n",
    "    def Amplitude(self):\n",
    "      return round((self.ohlc[1] - self.ohlc[2]), 2)\n",
    "\n",
    "    def Retorno(self):\n",
    "        retorno = (self.ohlc[3]-self.ohlc[0])\n",
    "        if retorno == 0:\n",
    "          print(self.ticker,'fechou estável')\n",
    "        elif retorno > 0:\n",
    "          print(self.ticker,'fechou em alta')\n",
    "        elif retorno < 0:\n",
    "          print(self.ticker,'fechou em baixa')\n",
    "    pass"
   ]
  },
  {
   "cell_type": "code",
   "execution_count": 21,
   "metadata": {
    "id": "1Gkt8dzJeIZk"
   },
   "outputs": [],
   "source": [
    "papel_02 = Ativo('MGLU3', 'Varejo', [2, 3.2, 1.35, 1.6])"
   ]
  },
  {
   "cell_type": "code",
   "execution_count": 26,
   "metadata": {
    "colab": {
     "base_uri": "https://localhost:8080/"
    },
    "id": "gx7-Aza2dbj8",
    "outputId": "f6bd9bb4-7ddb-4f0d-a1ea-df546cad93a0"
   },
   "outputs": [
    {
     "data": {
      "text/plain": [
       "1.85"
      ]
     },
     "execution_count": 26,
     "metadata": {},
     "output_type": "execute_result"
    }
   ],
   "source": [
    "papel_02.Amplitude()"
   ]
  },
  {
   "cell_type": "code",
   "execution_count": 27,
   "metadata": {},
   "outputs": [
    {
     "name": "stdout",
     "output_type": "stream",
     "text": [
      "MGLU3 fechou em baixa\n"
     ]
    }
   ],
   "source": [
    "papel_02.Retorno()"
   ]
  },
  {
   "cell_type": "code",
   "execution_count": 28,
   "metadata": {
    "id": "cvHYXcsTeMtc"
   },
   "outputs": [],
   "source": [
    "class Ativos_B3(Ativo):\n",
    "       \n",
    "    def Categoria_acao(self):\n",
    "        if self.ticker[-1] == '3':\n",
    "            print(self.ticker,'é uma ação é do tipo ORDINÁRIA')\n",
    "        elif self.ticker[-1] == '4':\n",
    "            print(self.ticker,'é uma ação é do tipo PREFERENCIAL')\n",
    "        elif self.ticker[-1] == '1':\n",
    "            print(self.ticker,'é uma ação é do tipo UNIT')\n",
    "        else:\n",
    "            print('Não tenho certeza, melhor consultar o site da B3')\n",
    "    \n",
    "    pass"
   ]
  },
  {
   "cell_type": "code",
   "execution_count": 29,
   "metadata": {
    "id": "JiWuuV4becFc"
   },
   "outputs": [],
   "source": [
    "ativo4 = Ativos_B3('MGLU3', 'Varejo', [2, 3.2, 1.35, 1.6])"
   ]
  },
  {
   "cell_type": "code",
   "execution_count": 30,
   "metadata": {
    "colab": {
     "base_uri": "https://localhost:8080/"
    },
    "id": "XCSiyJ-zesBs",
    "outputId": "a17bbdd5-6554-4130-e205-bc7ab5b599b3"
   },
   "outputs": [
    {
     "name": "stdout",
     "output_type": "stream",
     "text": [
      "MGLU3 é uma ação é do tipo ORDINÁRIA\n"
     ]
    }
   ],
   "source": [
    "ativo4.Categoria_acao()"
   ]
  },
  {
   "cell_type": "code",
   "execution_count": 31,
   "metadata": {
    "colab": {
     "base_uri": "https://localhost:8080/"
    },
    "id": "KWW1FlrTeur9",
    "outputId": "2a0b3332-415f-4b7c-95ce-27de9216d1f2"
   },
   "outputs": [
    {
     "data": {
      "text/plain": [
       "1.85"
      ]
     },
     "execution_count": 31,
     "metadata": {},
     "output_type": "execute_result"
    }
   ],
   "source": [
    "ativo4.Amplitude()"
   ]
  },
  {
   "cell_type": "code",
   "execution_count": 33,
   "metadata": {
    "id": "lIgjtUC8ezhN"
   },
   "outputs": [
    {
     "data": {
      "text/plain": [
       "'Varejo'"
      ]
     },
     "execution_count": 33,
     "metadata": {},
     "output_type": "execute_result"
    }
   ],
   "source": [
    "ativo4.setor"
   ]
  },
  {
   "cell_type": "code",
   "execution_count": null,
   "metadata": {
    "id": "N6KfrRrjezX0"
   },
   "outputs": [],
   "source": []
  },
  {
   "cell_type": "markdown",
   "metadata": {
    "id": "LWE1CaZBoQxF"
   },
   "source": [
    "## 2.2. Classes: armazenar dados, funções e até coleções de métodos em um único objeto"
   ]
  },
  {
   "cell_type": "markdown",
   "metadata": {
    "id": "QwpQMi5yoQxG"
   },
   "source": [
    "### 2.2.1. Criar uma classe que define um ativo\n",
    "\\__init__  ->  permite criar a funcionalidade inicial da classe <p>\n",
    "self -> definir as propriedades e métodos de uma instância"
   ]
  },
  {
   "cell_type": "code",
   "execution_count": null,
   "metadata": {
    "id": "VWEDKl7ooQxG"
   },
   "outputs": [],
   "source": [
    "class Ativo:\n",
    "    def __init__(self,ticker,setor,ohlc):\n",
    "        self.ticker = str(ticker)\n",
    "        self.setor = str(setor)\n",
    "        self.ohlc = list(ohlc)\n",
    "    pass"
   ]
  },
  {
   "cell_type": "code",
   "execution_count": null,
   "metadata": {
    "colab": {
     "base_uri": "https://localhost:8080/"
    },
    "id": "G30NgeAToQxH",
    "outputId": "afd3270c-8929-4607-835f-82b29ec11c75"
   },
   "outputs": [
    {
     "data": {
      "text/plain": [
       "<__main__.Ativo at 0x7fb4d3abd690>"
      ]
     },
     "execution_count": 229,
     "metadata": {},
     "output_type": "execute_result"
    }
   ],
   "source": [
    "ativo1 = Ativo('PETR4','Combustíveis',[32.35,33.17,31.55,31.93])\n",
    "ativo1"
   ]
  },
  {
   "cell_type": "code",
   "execution_count": null,
   "metadata": {
    "colab": {
     "base_uri": "https://localhost:8080/"
    },
    "id": "Ggsbp495oQxI",
    "outputId": "1f8b43ac-5691-4bcc-b42d-a667b590004b"
   },
   "outputs": [
    {
     "data": {
      "application/vnd.google.colaboratory.intrinsic+json": {
       "type": "string"
      },
      "text/plain": [
       "'PETR4'"
      ]
     },
     "execution_count": 230,
     "metadata": {},
     "output_type": "execute_result"
    }
   ],
   "source": [
    "ativo1.ticker"
   ]
  },
  {
   "cell_type": "code",
   "execution_count": null,
   "metadata": {
    "colab": {
     "base_uri": "https://localhost:8080/"
    },
    "id": "Wej1hQuloQxJ",
    "outputId": "035d7d64-0f62-4aa1-d9e8-45cad5a974f5"
   },
   "outputs": [
    {
     "data": {
      "text/plain": [
       "31.93"
      ]
     },
     "execution_count": 231,
     "metadata": {},
     "output_type": "execute_result"
    }
   ],
   "source": [
    "ativo1.ohlc[3]"
   ]
  },
  {
   "cell_type": "code",
   "execution_count": null,
   "metadata": {
    "colab": {
     "base_uri": "https://localhost:8080/"
    },
    "id": "mVQkn665oQxJ",
    "outputId": "3a66e580-5b46-428a-a2ef-08c381a8a921"
   },
   "outputs": [
    {
     "data": {
      "text/plain": [
       "False"
      ]
     },
     "execution_count": 232,
     "metadata": {},
     "output_type": "execute_result"
    }
   ],
   "source": [
    "ativo2 = Ativo('ITUB4','Financeiro',[25.32,27.01,25.18,26.77])\n",
    "ativo3 = Ativo('VALE3','Mineração',[80.87,82.55,80.76,82.40])\n",
    "ativo2.setor == ativo3.setor"
   ]
  },
  {
   "cell_type": "code",
   "execution_count": null,
   "metadata": {
    "id": "rcigAU9xb-hU"
   },
   "outputs": [],
   "source": [
    "class Ativo:\n",
    "    def __init__(self,ticker,setor,ohlc):\n",
    "        self.ticker = str(ticker)\n",
    "        self.setor = str(setor)\n",
    "        self.ohlc = list(ohlc)\n",
    "    \n",
    "    \n",
    "    pass"
   ]
  },
  {
   "cell_type": "code",
   "execution_count": null,
   "metadata": {
    "id": "s_gFn5I7b-ZE"
   },
   "outputs": [],
   "source": []
  },
  {
   "cell_type": "markdown",
   "metadata": {
    "id": "P_VKj4XDoQxK"
   },
   "source": [
    "### 2.2.2. Criar uma classe com métodos\n",
    "Dica: Ao trabalhar com classes, as 'cores no código' ajudam muito"
   ]
  },
  {
   "cell_type": "code",
   "execution_count": 12,
   "metadata": {
    "id": "tUwN0TQ9Q67z"
   },
   "outputs": [],
   "source": [
    "class Ativo:\n",
    "    def __init__(self,ticker,setor,ohlc):\n",
    "        self.ticker = str(ticker)\n",
    "        self.setor = str(setor)\n",
    "        self.ohlc = list(ohlc)"
   ]
  },
  {
   "cell_type": "code",
   "execution_count": null,
   "metadata": {
    "id": "C914au-4RT3D"
   },
   "outputs": [],
   "source": [
    "def Amplitude(self):\n",
    "        print(round((self.ohlc[1]-self.ohlc[2]),2))"
   ]
  },
  {
   "cell_type": "code",
   "execution_count": 14,
   "metadata": {
    "id": "o48MHBJuRXS7"
   },
   "outputs": [],
   "source": [
    "def Amplitude(open, close):\n",
    "  return close-open"
   ]
  },
  {
   "cell_type": "code",
   "execution_count": 15,
   "metadata": {
    "colab": {
     "base_uri": "https://localhost:8080/"
    },
    "id": "j6WGS7-_RjDL",
    "outputId": "5fc09178-1716-4ba1-c670-60f4b03c9e30"
   },
   "outputs": [
    {
     "data": {
      "text/plain": [
       "5"
      ]
     },
     "execution_count": 15,
     "metadata": {},
     "output_type": "execute_result"
    }
   ],
   "source": [
    "Amplitude(15,20)"
   ]
  },
  {
   "cell_type": "code",
   "execution_count": 17,
   "metadata": {
    "colab": {
     "base_uri": "https://localhost:8080/",
     "height": 170
    },
    "id": "RpcvaU5ARyA8",
    "outputId": "7ba1c8b7-4dc8-43ee-b571-6c963830d966"
   },
   "outputs": [
    {
     "ename": "AttributeError",
     "evalue": "ignored",
     "output_type": "error",
     "traceback": [
      "\u001b[0;31m---------------------------------------------------------------------------\u001b[0m",
      "\u001b[0;31mAttributeError\u001b[0m                            Traceback (most recent call last)",
      "\u001b[0;32m<ipython-input-17-241ad08de176>\u001b[0m in \u001b[0;36m<module>\u001b[0;34m\u001b[0m\n\u001b[0;32m----> 1\u001b[0;31m \u001b[0mativo1\u001b[0m\u001b[0;34m.\u001b[0m\u001b[0mAmplitude\u001b[0m\u001b[0;34m\u001b[0m\u001b[0;34m\u001b[0m\u001b[0m\n\u001b[0m",
      "\u001b[0;31mAttributeError\u001b[0m: 'Ativo' object has no attribute 'Amplitude'"
     ]
    }
   ],
   "source": [
    "ativo1.Amplitude"
   ]
  },
  {
   "cell_type": "code",
   "execution_count": 19,
   "metadata": {
    "id": "cA_8kWV-Q8xb"
   },
   "outputs": [],
   "source": [
    "ativo2 = Ativo('ITUB4','Financeiro',[25.32,27.01,25.18,26.77])"
   ]
  },
  {
   "cell_type": "code",
   "execution_count": 23,
   "metadata": {
    "colab": {
     "base_uri": "https://localhost:8080/"
    },
    "id": "Bn6fgTHLSN6D",
    "outputId": "131e94f9-d697-47e1-cd71-d8ffd7dcfb94"
   },
   "outputs": [
    {
     "data": {
      "text/plain": [
       "1.4499999999999993"
      ]
     },
     "execution_count": 23,
     "metadata": {},
     "output_type": "execute_result"
    }
   ],
   "source": [
    "Amplitude(ativo2.ohlc[0],ativo2.ohlc[3])"
   ]
  },
  {
   "cell_type": "code",
   "execution_count": 21,
   "metadata": {
    "colab": {
     "base_uri": "https://localhost:8080/"
    },
    "id": "Xp38rhlDR-Br",
    "outputId": "ba97f1cd-ac76-401d-fb72-635fb1bb25ce"
   },
   "outputs": [
    {
     "name": "stdout",
     "output_type": "stream",
     "text": [
      "1.83\n"
     ]
    }
   ],
   "source": [
    "ativo2.Amplitude()"
   ]
  },
  {
   "cell_type": "code",
   "execution_count": 27,
   "metadata": {
    "id": "MH2QVD6LSifL"
   },
   "outputs": [],
   "source": [
    "ativo2 = Ativo('ITUB4','Financeiro',[25.32,27.01,25.18,26.77])"
   ]
  },
  {
   "cell_type": "code",
   "execution_count": 29,
   "metadata": {
    "colab": {
     "base_uri": "https://localhost:8080/"
    },
    "id": "PXQy2i0hSyGz",
    "outputId": "7270abf1-dfe6-46ec-b617-bf0e5451f1c3"
   },
   "outputs": [
    {
     "data": {
      "text/plain": [
       "__main__.Ativo"
      ]
     },
     "execution_count": 29,
     "metadata": {},
     "output_type": "execute_result"
    }
   ],
   "source": [
    "type(ativo2)"
   ]
  },
  {
   "cell_type": "code",
   "execution_count": 30,
   "metadata": {
    "colab": {
     "base_uri": "https://localhost:8080/"
    },
    "id": "reyX0asNS3Q7",
    "outputId": "ddc149de-f65f-490a-98d1-13859a4d674d"
   },
   "outputs": [
    {
     "name": "stdout",
     "output_type": "stream",
     "text": [
      "1.83\n"
     ]
    }
   ],
   "source": [
    "ativo2.Amplitude()"
   ]
  },
  {
   "cell_type": "code",
   "execution_count": 114,
   "metadata": {
    "id": "vslSW5c3S6Nc"
   },
   "outputs": [],
   "source": [
    "ativo3 = Ativo_num('ITUB4','Financeiro',[25.32,27.01,25.18,26.77])"
   ]
  },
  {
   "cell_type": "code",
   "execution_count": 33,
   "metadata": {
    "colab": {
     "base_uri": "https://localhost:8080/"
    },
    "id": "5icDIGlMTV8M",
    "outputId": "aa5342ce-7153-463b-c12c-46cf17b33beb"
   },
   "outputs": [
    {
     "data": {
      "text/plain": [
       "__main__.Ativo_num"
      ]
     },
     "execution_count": 33,
     "metadata": {},
     "output_type": "execute_result"
    }
   ],
   "source": [
    "type(ativo3)"
   ]
  },
  {
   "cell_type": "code",
   "execution_count": 32,
   "metadata": {
    "colab": {
     "base_uri": "https://localhost:8080/"
    },
    "id": "y6Alif6rS8uD",
    "outputId": "112ca1d3-94b1-4c89-e344-0cad78209c76"
   },
   "outputs": [
    {
     "name": "stdout",
     "output_type": "stream",
     "text": [
      "estudos\n"
     ]
    }
   ],
   "source": [
    "ativo3.Amplitude()"
   ]
  },
  {
   "cell_type": "code",
   "execution_count": null,
   "metadata": {
    "id": "E1vbyg2tT7r0"
   },
   "outputs": [],
   "source": []
  },
  {
   "cell_type": "code",
   "execution_count": 49,
   "metadata": {
    "id": "wFlgLHP1T_hM"
   },
   "outputs": [],
   "source": [
    "class carro:\n",
    "\n",
    "  def __init__(self, marca, modelo, potencia):\n",
    "    teste = 1"
   ]
  },
  {
   "cell_type": "code",
   "execution_count": 63,
   "metadata": {
    "id": "qojgsgo-VVvM"
   },
   "outputs": [],
   "source": [
    "class carro:\n",
    "\n",
    "  def Amplitude(open,close):\n",
    "    return open-close"
   ]
  },
  {
   "cell_type": "code",
   "execution_count": 61,
   "metadata": {
    "id": "hHk2vEWhUGTT"
   },
   "outputs": [],
   "source": [
    "carro1 = carro(52, 2, 45.6)"
   ]
  },
  {
   "cell_type": "code",
   "execution_count": 68,
   "metadata": {
    "id": "v1y5v9saUmgM"
   },
   "outputs": [],
   "source": [
    "carro1 = carro()"
   ]
  },
  {
   "cell_type": "code",
   "execution_count": 72,
   "metadata": {
    "colab": {
     "base_uri": "https://localhost:8080/",
     "height": 260
    },
    "id": "Spr905q7WHxL",
    "outputId": "1f851a70-04b5-4e59-91c2-d6edf0616621"
   },
   "outputs": [
    {
     "ename": "TypeError",
     "evalue": "ignored",
     "output_type": "error",
     "traceback": [
      "\u001b[0;31m---------------------------------------------------------------------------\u001b[0m",
      "\u001b[0;31mTypeError\u001b[0m                                 Traceback (most recent call last)",
      "\u001b[0;32m<ipython-input-72-e5f20e17a071>\u001b[0m in \u001b[0;36m<module>\u001b[0;34m\u001b[0m\n\u001b[0;32m----> 1\u001b[0;31m \u001b[0mcarro1\u001b[0m\u001b[0;34m.\u001b[0m\u001b[0mAmplitude\u001b[0m\u001b[0;34m(\u001b[0m\u001b[0;36m1.2\u001b[0m\u001b[0;34m)\u001b[0m\u001b[0;34m\u001b[0m\u001b[0;34m\u001b[0m\u001b[0m\n\u001b[0m",
      "\u001b[0;32m<ipython-input-63-c91aefab15dc>\u001b[0m in \u001b[0;36mAmplitude\u001b[0;34m(open, close)\u001b[0m\n\u001b[1;32m      2\u001b[0m \u001b[0;34m\u001b[0m\u001b[0m\n\u001b[1;32m      3\u001b[0m   \u001b[0;32mdef\u001b[0m \u001b[0mAmplitude\u001b[0m\u001b[0;34m(\u001b[0m\u001b[0mopen\u001b[0m\u001b[0;34m,\u001b[0m\u001b[0mclose\u001b[0m\u001b[0;34m)\u001b[0m\u001b[0;34m:\u001b[0m\u001b[0;34m\u001b[0m\u001b[0;34m\u001b[0m\u001b[0m\n\u001b[0;32m----> 4\u001b[0;31m     \u001b[0;32mreturn\u001b[0m \u001b[0mopen\u001b[0m\u001b[0;34m-\u001b[0m\u001b[0mclose\u001b[0m\u001b[0;34m\u001b[0m\u001b[0;34m\u001b[0m\u001b[0m\n\u001b[0m",
      "\u001b[0;31mTypeError\u001b[0m: unsupported operand type(s) for -: 'carro' and 'float'"
     ]
    }
   ],
   "source": [
    "carro1.Amplitude(1.2)"
   ]
  },
  {
   "cell_type": "code",
   "execution_count": null,
   "metadata": {
    "id": "s2Q9ImWXTZ3U"
   },
   "outputs": [],
   "source": [
    "class carro:\n",
    "\n",
    "  def __init__(marca, modelo, potencia):\n",
    "    marca = str()\n",
    "\n",
    "\n",
    "\n",
    "\n",
    "\n",
    "\n",
    "    def __init__(self,ticker,setor,ohlc):\n",
    "        self.ticker = str(ticker)\n",
    "        self.setor = str(setor)\n",
    "        self.ohlc = list(ohlc)\n",
    "    \n",
    "    def Amplitude(self):\n",
    "        print('estudos')"
   ]
  },
  {
   "cell_type": "code",
   "execution_count": 25,
   "metadata": {
    "id": "QM3ZXfjToQxK"
   },
   "outputs": [],
   "source": [
    "class Ativo_num:\n",
    "    def __init__(self,ticker,setor,ohlc):\n",
    "        self.ticker = str(ticker)\n",
    "        self.setor = str(setor)\n",
    "        self.ohlc = list(ohlc)\n",
    "    \n",
    "    def Amplitude(self):\n",
    "        print('estudos')\n",
    "    \n",
    "    def Tipo(self):\n",
    "        if self.ticker[-1] == '3':\n",
    "            print(self.ticker,'é uma ação é do tipo ORDINÁRIA')\n",
    "        elif self.ticker[-1] == '4':\n",
    "            print(self.ticker,'é uma ação é do tipo PREFERENCIAL')\n",
    "        elif self.ticker[-1] == '1':\n",
    "            print(self.ticker,'é uma ação é do tipo UNIT')\n",
    "        else:\n",
    "            print('Não tenho certeza, melhor consultar o site da B3')\n",
    "    \n",
    "    def Resultado(self):\n",
    "        resultado = (self.ohlc[3]-self.ohlc[0])\n",
    "        if resultado == 0:\n",
    "          print(self.ticker,'fechou estável')\n",
    "        elif resultado > 0:\n",
    "          print(self.ticker,'fechou em alta')\n",
    "        elif resultado < 0:\n",
    "          print(self.ticker,'fechou em baixa')\n",
    "\n",
    "    def Fech_prox_max_min(self):\n",
    "        media_max_min = np.mean([self.ohlc[1],self.ohlc[2]])\n",
    "        if self.ohlc[3] > media_max_min:\n",
    "            print(self.ticker,'parece estar em tendencia de alta')\n",
    "        else:\n",
    "            print(self.ticker,'parece estar em tendencia de baixa')\n",
    "\n",
    "    pass"
   ]
  },
  {
   "cell_type": "code",
   "execution_count": null,
   "metadata": {
    "id": "ASxA3xBuoQxL"
   },
   "outputs": [],
   "source": [
    "ativo1 = Ativo('PETR4','Combustíveis',[32.35,33.17,31.55,31.93])\n",
    "ativo2 = Ativo('ITUB4','Financeiro',[25.32,27.01,25.18,26.77])\n",
    "ativo3 = Ativo('VALE3','Mineração',[80.87,82.55,80.76,82.40])\n",
    "ativo4 = Ativo('BPAC11','Financeiro',[24.17,24.77,23.70,23.89])"
   ]
  },
  {
   "cell_type": "code",
   "execution_count": null,
   "metadata": {
    "colab": {
     "base_uri": "https://localhost:8080/"
    },
    "id": "bqPOKduyoQxM",
    "outputId": "8fef5124-36d4-4f8f-d025-0b7583633bb8"
   },
   "outputs": [
    {
     "name": "stdout",
     "output_type": "stream",
     "text": [
      "1.62\n"
     ]
    }
   ],
   "source": [
    "ativo1.Amplitude()\n"
   ]
  },
  {
   "cell_type": "code",
   "execution_count": null,
   "metadata": {
    "colab": {
     "base_uri": "https://localhost:8080/"
    },
    "id": "B7xycia1t4gV",
    "outputId": "6bcdbba2-6cc3-4203-ebd1-13349bbba9cc"
   },
   "outputs": [
    {
     "name": "stdout",
     "output_type": "stream",
     "text": [
      "1.79\n"
     ]
    }
   ],
   "source": [
    "Ativo.Amplitude(ativo3)"
   ]
  },
  {
   "cell_type": "code",
   "execution_count": null,
   "metadata": {
    "colab": {
     "base_uri": "https://localhost:8080/"
    },
    "id": "qFWfUF4moQxN",
    "outputId": "e386948f-58b1-44ee-98c8-e0608d9a84e6"
   },
   "outputs": [
    {
     "name": "stdout",
     "output_type": "stream",
     "text": [
      "BPAC11 é uma ação é do tipo UNIT\n"
     ]
    }
   ],
   "source": [
    "ativo4.Tipo()"
   ]
  },
  {
   "cell_type": "code",
   "execution_count": null,
   "metadata": {
    "colab": {
     "base_uri": "https://localhost:8080/"
    },
    "id": "XpfaUn2PoQxP",
    "outputId": "57bf4be5-2deb-4007-8f10-f02b49df4b0c"
   },
   "outputs": [
    {
     "data": {
      "text/plain": [
       "True"
      ]
     },
     "execution_count": 238,
     "metadata": {},
     "output_type": "execute_result"
    }
   ],
   "source": [
    "ativo2.setor == ativo4.setor"
   ]
  },
  {
   "cell_type": "code",
   "execution_count": null,
   "metadata": {
    "colab": {
     "base_uri": "https://localhost:8080/"
    },
    "id": "6jBaoV2UoQxP",
    "outputId": "6761ddf1-103f-4a01-ddb9-d02e2c05dfd2"
   },
   "outputs": [
    {
     "name": "stdout",
     "output_type": "stream",
     "text": [
      "ITUB4 fechou em alta\n"
     ]
    }
   ],
   "source": [
    "ativo2.Resultado()"
   ]
  },
  {
   "cell_type": "code",
   "execution_count": null,
   "metadata": {
    "colab": {
     "base_uri": "https://localhost:8080/"
    },
    "id": "TWg_qW6YoQxQ",
    "outputId": "93e94f1c-d75b-4bdd-c592-eb5cccd8b8c0"
   },
   "outputs": [
    {
     "name": "stdout",
     "output_type": "stream",
     "text": [
      "VALE3 parece estar em tendencia de alta\n"
     ]
    }
   ],
   "source": [
    "Ativo.Fech_prox_max_min(ativo3)"
   ]
  },
  {
   "cell_type": "code",
   "execution_count": null,
   "metadata": {
    "colab": {
     "base_uri": "https://localhost:8080/"
    },
    "id": "ZaOJRYdroQxQ",
    "outputId": "10bf5d75-7e0b-4f32-a4dd-cffb93be699c"
   },
   "outputs": [
    {
     "name": "stdout",
     "output_type": "stream",
     "text": [
      "WEGE3 fechou em baixa\n"
     ]
    }
   ],
   "source": [
    "ativo5 = Ativo('WEGE3','Bens_Industriais',[32.46,33.84,31.18,32.12])\n",
    "Ativo.Resultado(ativo5)"
   ]
  },
  {
   "cell_type": "markdown",
   "metadata": {
    "id": "XDUgjhQQoQxR"
   },
   "source": [
    "## 3.1. Um pouco mais de Python:"
   ]
  },
  {
   "cell_type": "markdown",
   "metadata": {
    "id": "JsbHp87woQxR"
   },
   "source": [
    "### 3.1.1. *Expressions, quotations ...*"
   ]
  },
  {
   "cell_type": "code",
   "execution_count": null,
   "metadata": {
    "colab": {
     "base_uri": "https://localhost:8080/"
    },
    "id": "re2GOMnGoQxS",
    "outputId": "ffdf87fa-e7eb-4895-d681-95eb9f60d796"
   },
   "outputs": [
    {
     "name": "stdout",
     "output_type": "stream",
     "text": [
      "2.580645161290323\n",
      "Com uma ação de VALE3 consigo comprar 2.580645161290323 ações de PETR4\n"
     ]
    }
   ],
   "source": [
    "razao_ativos = ativo3.ohlc[3]/ativo1.ohlc[3]\n",
    "print(razao_ativos)\n",
    "print('Com uma ação de',ativo3.ticker,'consigo comprar',razao_ativos,'ações de',ativo1.ticker)"
   ]
  },
  {
   "cell_type": "code",
   "execution_count": null,
   "metadata": {
    "colab": {
     "base_uri": "https://localhost:8080/"
    },
    "id": "5jk6zve_oQxS",
    "outputId": "d29b53d1-2e16-4d9e-e670-827bd51ef9b8"
   },
   "outputs": [
    {
     "name": "stdout",
     "output_type": "stream",
     "text": [
      "Com uma ação de VALE3 consigo comprar 2.6 ações de PETR4\n"
     ]
    }
   ],
   "source": [
    "print('Com uma ação de',ativo3.ticker,'consigo comprar %.1f ações de' % razao_ativos, ativo1.ticker)"
   ]
  },
  {
   "cell_type": "code",
   "execution_count": null,
   "metadata": {
    "colab": {
     "base_uri": "https://localhost:8080/"
    },
    "id": "6HY5M2D7oQxS",
    "outputId": "b6905f20-5226-49bf-d04c-20cd90b6eaa7"
   },
   "outputs": [
    {
     "name": "stdout",
     "output_type": "stream",
     "text": [
      "Com uma ação de vale3 consigo comprar 2.6 ações de PETR4\n"
     ]
    }
   ],
   "source": [
    "print('Com uma ação de',f'{ativo3.ticker.lower()}','consigo comprar %.1f ações de' % razao_ativos,ativo1.ticker)"
   ]
  },
  {
   "cell_type": "code",
   "execution_count": null,
   "metadata": {
    "colab": {
     "base_uri": "https://localhost:8080/"
    },
    "id": "_WNYlnzgoQxT",
    "outputId": "26a2c865-e878-4cda-b858-830c3746ab73"
   },
   "outputs": [
    {
     "name": "stdout",
     "output_type": "stream",
     "text": [
      "Na data de 03/01/2022, uma ação de VALE3 equivale a aproximadamente 2.6 ações de PETR4\n"
     ]
    }
   ],
   "source": [
    "data_cotacao = '2022-01-03'\n",
    "print('Na data de',f'{pd.to_datetime(data_cotacao).strftime(\"%d/%m/%Y\")}','\\b, uma ação de', \n",
    "f'{ativo3.ticker}','equivale a aproximadamente %.1f ações de' % razao_ativos,ativo1.ticker)"
   ]
  },
  {
   "cell_type": "code",
   "execution_count": null,
   "metadata": {
    "colab": {
     "base_uri": "https://localhost:8080/"
    },
    "id": "OjPTesMUSbAr",
    "outputId": "a0f3a0a8-6c35-43a4-845f-4e3683226c91"
   },
   "outputs": [
    {
     "data": {
      "text/plain": [
       "float"
      ]
     },
     "execution_count": 246,
     "metadata": {},
     "output_type": "execute_result"
    }
   ],
   "source": [
    "type(ativo5.ohlc[3])"
   ]
  },
  {
   "cell_type": "markdown",
   "metadata": {
    "id": "s-mwdxEnoQxT"
   },
   "source": [
    "### 3.1.2. Herança entre classes"
   ]
  },
  {
   "cell_type": "code",
   "execution_count": null,
   "metadata": {
    "id": "NSai0z5NoQxT"
   },
   "outputs": [],
   "source": [
    "class Ativo_num:\n",
    "    def __init__(self,ticker,setor,ohlc):\n",
    "        self.ticker = str(ticker)\n",
    "        self.setor = str(setor)\n",
    "        self.ohlc = list(ohlc)\n",
    "    \n",
    "    def Amplitude(self):\n",
    "        print(round((self.ohlc[1]-self.ohlc[2]),2))\n",
    "    \n",
    "    def Tipo(self):\n",
    "        if self.ticker[-1] == '3':\n",
    "            print(self.ticker,'é uma ação é do tipo ORDINÁRIA')\n",
    "        elif self.ticker[-1] == '4':\n",
    "            print(self.ticker,'é uma ação é do tipo PREFERENCIAL')\n",
    "        elif self.ticker[-1] == '1':\n",
    "            print(self.ticker,'é uma ação é do tipo UNIT')\n",
    "        else:\n",
    "            print('Não tenho certeza, melhor consultar o site da B3')\n",
    "\n",
    "    def Resultado(self):\n",
    "        resultado = (self.ohlc[3]-self.ohlc[0])\n",
    "        if resultado == 0:\n",
    "          print(self.ticker,'fechou estável')\n",
    "        elif resultado > 0:\n",
    "          print(self.ticker,'fechou em alta')\n",
    "        elif resultado < 0:\n",
    "          print(self.ticker,'fechou em baixa')\n",
    "\n",
    "    def Fech_prox_max_min(self):\n",
    "        media_max_min = np.mean([self.ohlc[1],self.ohlc[2]])\n",
    "        if self.ohlc[3] > media_max_min:\n",
    "            print(self.ticker,'parece estar em tendencia de alta')\n",
    "        else:\n",
    "            print(self.ticker,'parece estar em tendencia de baixa')\n",
    "            \n",
    "    def Amplitude_num(self):\n",
    "        return (round((self.ohlc[1]-self.ohlc[2]),2))\n",
    "    \n",
    "    def Resultado_num(self):\n",
    "        self.resultado_num = (self.ohlc[3]-self.ohlc[0])\n",
    "        return round(self.resultado_num,2)\n",
    "        \n",
    "pass"
   ]
  },
  {
   "cell_type": "code",
   "execution_count": null,
   "metadata": {
    "colab": {
     "base_uri": "https://localhost:8080/"
    },
    "id": "cYWjBXDGoQxU",
    "outputId": "00cafd9f-f0ba-47e5-fef3-3087cae953ca"
   },
   "outputs": [
    {
     "name": "stdout",
     "output_type": "stream",
     "text": [
      "2.66\n"
     ]
    },
    {
     "data": {
      "text/plain": [
       "NoneType"
      ]
     },
     "execution_count": 248,
     "metadata": {},
     "output_type": "execute_result"
    }
   ],
   "source": [
    "x = ativo5.Amplitude()\n",
    "type(x)"
   ]
  },
  {
   "cell_type": "code",
   "execution_count": null,
   "metadata": {
    "id": "xrVZ38QpoQxU"
   },
   "outputs": [],
   "source": [
    "## Obs.: Output daria erro já que ativo5 foi criado usando classe Ativo ao invés de Ativo_num\n",
    "## ativo5.Amplitude_num()"
   ]
  },
  {
   "cell_type": "code",
   "execution_count": null,
   "metadata": {
    "id": "61GZciEpoQxV"
   },
   "outputs": [],
   "source": [
    "ativo1 = Ativo_num('PETR4','Combustíveis',[32.35,33.17,31.55,31.93])\n",
    "ativo2 = Ativo_num('ITUB4','Financeiro',[25.32,27.01,25.18,26.77])\n",
    "ativo3 = Ativo_num('VALE3','Mineração',[80.87,82.55,80.76,82.40])\n",
    "ativo4 = Ativo_num('BPAC11','Financeiro',[24.17,24.77,23.70,23.89])\n",
    "ativo5 = Ativo_num('WEGE3','Bens_Industriais',[32.46,33.84,31.18,32.12])"
   ]
  },
  {
   "cell_type": "code",
   "execution_count": null,
   "metadata": {
    "colab": {
     "base_uri": "https://localhost:8080/"
    },
    "id": "NbrtD2TAoQxV",
    "outputId": "db70eed1-52f5-43b4-ebfa-eb977f38ad2e"
   },
   "outputs": [
    {
     "data": {
      "text/plain": [
       "float"
      ]
     },
     "execution_count": 251,
     "metadata": {},
     "output_type": "execute_result"
    }
   ],
   "source": [
    "y = ativo5.Amplitude_num()\n",
    "type(y)"
   ]
  },
  {
   "cell_type": "code",
   "execution_count": null,
   "metadata": {
    "id": "jerNH_ZIoQxV"
   },
   "outputs": [],
   "source": [
    "class ETFs(Ativo_num):\n",
    "    def __init__(self,ticker,ohlc):\n",
    "        self.ticker = str(ticker)\n",
    "        self.ohlc = list(ohlc)"
   ]
  },
  {
   "cell_type": "code",
   "execution_count": null,
   "metadata": {
    "colab": {
     "base_uri": "https://localhost:8080/"
    },
    "id": "L3c-sRCaoQxW",
    "outputId": "a056b07e-8fb2-4ab7-eaa6-a1288f510273"
   },
   "outputs": [
    {
     "data": {
      "application/vnd.google.colaboratory.intrinsic+json": {
       "type": "string"
      },
      "text/plain": [
       "'^BVSP'"
      ]
     },
     "execution_count": 253,
     "metadata": {},
     "output_type": "execute_result"
    }
   ],
   "source": [
    "IBOV = ETFs('^BVSP',[113428,114269,112815,113879])\n",
    "IBOV.ticker"
   ]
  },
  {
   "cell_type": "code",
   "execution_count": null,
   "metadata": {
    "colab": {
     "base_uri": "https://localhost:8080/"
    },
    "id": "3jGYIM7ZoQxW",
    "outputId": "b2b43e4e-4f7f-4fb9-f7ff-960012f8153e"
   },
   "outputs": [
    {
     "data": {
      "text/plain": [
       "451"
      ]
     },
     "execution_count": 254,
     "metadata": {},
     "output_type": "execute_result"
    }
   ],
   "source": [
    "IBOV.ohlc[3]-IBOV.ohlc[0]"
   ]
  },
  {
   "cell_type": "code",
   "execution_count": null,
   "metadata": {
    "colab": {
     "base_uri": "https://localhost:8080/"
    },
    "id": "gg_SMvMLoQxW",
    "outputId": "19a59da4-3cab-4309-cd1b-effc93fa0ecd"
   },
   "outputs": [
    {
     "data": {
      "text/plain": [
       "-0.42"
      ]
     },
     "execution_count": 255,
     "metadata": {},
     "output_type": "execute_result"
    }
   ],
   "source": [
    "ativo1.Resultado_num()"
   ]
  },
  {
   "cell_type": "code",
   "execution_count": null,
   "metadata": {
    "colab": {
     "base_uri": "https://localhost:8080/"
    },
    "id": "fD7AmI6ZoQxX",
    "outputId": "89f0f813-5ec7-4d77-c35d-8a6a6399dc9f"
   },
   "outputs": [
    {
     "name": "stdout",
     "output_type": "stream",
     "text": [
      "^BVSP fechou em alta\n"
     ]
    }
   ],
   "source": [
    "IBOV.Resultado()"
   ]
  },
  {
   "cell_type": "code",
   "execution_count": null,
   "metadata": {
    "colab": {
     "base_uri": "https://localhost:8080/"
    },
    "id": "k7nI-424oQxX",
    "outputId": "3bba9f76-9169-448a-d802-6c39e115fb64"
   },
   "outputs": [
    {
     "name": "stdout",
     "output_type": "stream",
     "text": [
      "Não tenho certeza, melhor consultar o site da B3\n"
     ]
    }
   ],
   "source": [
    "IBOV.Tipo()"
   ]
  }
 ],
 "metadata": {
  "colab": {
   "authorship_tag": "ABX9TyOdXWBYARhcGj1v9N7+CrwC",
   "collapsed_sections": [
    "_J1HH70HoQxE",
    "LWE1CaZBoQxF",
    "QwpQMi5yoQxG",
    "P_VKj4XDoQxK",
    "XDUgjhQQoQxR",
    "UGRC7vS_oQxX",
    "3J2FFixBPz1F",
    "r4XtH2dfoQxZ",
    "pOsfvXhvQJ7k"
   ],
   "include_colab_link": true,
   "name": "UPDATE_20220125_Introducao_Backtesting_Trading_Strategies_Python.ipynb",
   "provenance": []
  },
  "kernelspec": {
   "display_name": "Python 3 (ipykernel)",
   "language": "python",
   "name": "python3"
  },
  "language_info": {
   "codemirror_mode": {
    "name": "ipython",
    "version": 3
   },
   "file_extension": ".py",
   "mimetype": "text/x-python",
   "name": "python",
   "nbconvert_exporter": "python",
   "pygments_lexer": "ipython3",
   "version": "3.9.15"
  }
 },
 "nbformat": 4,
 "nbformat_minor": 4
}
